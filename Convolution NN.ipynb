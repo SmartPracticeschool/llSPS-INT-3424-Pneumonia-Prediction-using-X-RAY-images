{
 "cells": [
  {
   "cell_type": "code",
   "execution_count": 133,
   "metadata": {},
   "outputs": [],
   "source": [
    "#importing libraries\n",
    "from keras.models import Sequential\n",
    "from keras.layers import Dense\n",
    "from keras.layers import Convolution2D\n",
    "from keras.layers import MaxPooling2D\n",
    "from keras.layers import Flatten"
   ]
  },
  {
   "cell_type": "code",
   "execution_count": 134,
   "metadata": {},
   "outputs": [],
   "source": [
    "#initialize the model\n",
    "model=Sequential()"
   ]
  },
  {
   "cell_type": "code",
   "execution_count": 135,
   "metadata": {},
   "outputs": [],
   "source": [
    "model.add(Convolution2D(32,(3,3),input_shape=(64,64,3),activation='relu'))"
   ]
  },
  {
   "cell_type": "code",
   "execution_count": 136,
   "metadata": {},
   "outputs": [],
   "source": [
    "model.add(MaxPooling2D(pool_size=(2,2)))"
   ]
  },
  {
   "cell_type": "code",
   "execution_count": 137,
   "metadata": {},
   "outputs": [
    {
     "name": "stderr",
     "output_type": "stream",
     "text": [
      "C:\\ProgramData\\Anaconda3\\lib\\site-packages\\ipykernel_launcher.py:2: UserWarning: Update your `Dense` call to the Keras 2 API: `Dense(activation=\"relu\", units=128, kernel_initializer=\"uniform\")`\n",
      "  \n"
     ]
    }
   ],
   "source": [
    "model.add(Flatten())\n",
    "model.add(Dense(output_dim=128,init=\"uniform\", activation=\"relu\"))"
   ]
  },
  {
   "cell_type": "code",
   "execution_count": 138,
   "metadata": {},
   "outputs": [
    {
     "name": "stderr",
     "output_type": "stream",
     "text": [
      "C:\\ProgramData\\Anaconda3\\lib\\site-packages\\ipykernel_launcher.py:1: UserWarning: Update your `Dense` call to the Keras 2 API: `Dense(activation=\"sigmoid\", units=1, kernel_initializer=\"uniform\")`\n",
      "  \"\"\"Entry point for launching an IPython kernel.\n"
     ]
    }
   ],
   "source": [
    "model.add(Dense(output_dim=1, activation=\"sigmoid\", init=\"uniform\"))"
   ]
  },
  {
   "cell_type": "code",
   "execution_count": 139,
   "metadata": {},
   "outputs": [],
   "source": [
    "from keras.preprocessing.image import ImageDataGenerator\n",
    "#rescling is normalization of image.\n",
    "train_datagen=ImageDataGenerator(rescale=1./255,shear_range=0.2,zoom_range=0.2,horizontal_flip=True)\n",
    "test_datagen=ImageDataGenerator(rescale=1./255)"
   ]
  },
  {
   "cell_type": "code",
   "execution_count": 140,
   "metadata": {},
   "outputs": [
    {
     "name": "stdout",
     "output_type": "stream",
     "text": [
      "Found 5216 images belonging to 2 classes.\n",
      "Found 624 images belonging to 2 classes.\n"
     ]
    }
   ],
   "source": [
    "x_train=train_datagen.flow_from_directory(r'C:\\Users\\ANKIT MANGAL\\Desktop\\THESMARTBRIDE PROJECT\\17810_23812_bundle_archive\\chest_xray\\train',target_size=(64,64),batch_size=32,class_mode=\"binary\")\n",
    "x_test=test_datagen.flow_from_directory(r'C:\\Users\\ANKIT MANGAL\\Desktop\\THESMARTBRIDE PROJECT\\17810_23812_bundle_archive\\chest_xray\\test',target_size=(64,64),batch_size=32,class_mode=\"binary\")"
   ]
  },
  {
   "cell_type": "code",
   "execution_count": 141,
   "metadata": {},
   "outputs": [
    {
     "name": "stdout",
     "output_type": "stream",
     "text": [
      "{'NORMAL': 0, 'PNEUMONIA': 1}\n"
     ]
    }
   ],
   "source": [
    "#initialize the model\n",
    "print(x_train.class_indices)"
   ]
  },
  {
   "cell_type": "code",
   "execution_count": 142,
   "metadata": {},
   "outputs": [],
   "source": [
    "model.compile(loss=\"binary_crossentropy\", optimizer=\"adam\", metrics=[\"accuracy\"])"
   ]
  },
  {
   "cell_type": "code",
   "execution_count": 143,
   "metadata": {},
   "outputs": [
    {
     "name": "stdout",
     "output_type": "stream",
     "text": [
      "Epoch 1/10\n",
      "163/163 [==============================] - 290s 2s/step - loss: 0.4566 - acc: 0.7916 - val_loss: 0.3836 - val_acc: 0.8043\n",
      "Epoch 2/10\n",
      "163/163 [==============================] - 101s 618ms/step - loss: 0.2722 - acc: 0.8886 - val_loss: 0.3255 - val_acc: 0.8530\n",
      "Epoch 3/10\n",
      "163/163 [==============================] - 109s 667ms/step - loss: 0.2320 - acc: 0.9049 - val_loss: 0.4915 - val_acc: 0.7652\n",
      "Epoch 4/10\n",
      "163/163 [==============================] - 106s 647ms/step - loss: 0.2091 - acc: 0.9135 - val_loss: 0.5094 - val_acc: 0.7652\n",
      "Epoch 5/10\n",
      "163/163 [==============================] - 106s 650ms/step - loss: 0.2022 - acc: 0.9204 - val_loss: 0.4316 - val_acc: 0.8091\n",
      "Epoch 6/10\n",
      "163/163 [==============================] - 129s 790ms/step - loss: 0.1871 - acc: 0.9268 - val_loss: 0.3020 - val_acc: 0.8784\n",
      "Epoch 7/10\n",
      "163/163 [==============================] - 142s 872ms/step - loss: 0.1825 - acc: 0.9233 - val_loss: 0.4267 - val_acc: 0.8159\n",
      "Epoch 8/10\n",
      "163/163 [==============================] - 126s 771ms/step - loss: 0.1639 - acc: 0.9344 - val_loss: 0.3105 - val_acc: 0.8666\n",
      "Epoch 9/10\n",
      "163/163 [==============================] - 258s 2s/step - loss: 0.1525 - acc: 0.9408 - val_loss: 0.3685 - val_acc: 0.8682\n",
      "Epoch 10/10\n",
      "163/163 [==============================] - 143s 879ms/step - loss: 0.1482 - acc: 0.9471 - val_loss: 0.4922 - val_acc: 0.8007\n"
     ]
    },
    {
     "data": {
      "text/plain": [
       "<keras.callbacks.History at 0x1b1c48f9b48>"
      ]
     },
     "execution_count": 143,
     "metadata": {},
     "output_type": "execute_result"
    }
   ],
   "source": [
    "model.fit_generator(x_train,steps_per_epoch=163,epochs=10,validation_data=x_test,validation_steps=19)"
   ]
  },
  {
   "cell_type": "code",
   "execution_count": 145,
   "metadata": {},
   "outputs": [],
   "source": [
    "model.save(\"cnN.h5\")"
   ]
  },
  {
   "cell_type": "code",
   "execution_count": null,
   "metadata": {},
   "outputs": [],
   "source": []
  },
  {
   "cell_type": "code",
   "execution_count": null,
   "metadata": {},
   "outputs": [],
   "source": []
  }
 ],
 "metadata": {
  "kernelspec": {
   "display_name": "Python 3",
   "language": "python",
   "name": "python3"
  },
  "language_info": {
   "codemirror_mode": {
    "name": "ipython",
    "version": 3
   },
   "file_extension": ".py",
   "mimetype": "text/x-python",
   "name": "python",
   "nbconvert_exporter": "python",
   "pygments_lexer": "ipython3",
   "version": "3.7.6"
  }
 },
 "nbformat": 4,
 "nbformat_minor": 4
}
